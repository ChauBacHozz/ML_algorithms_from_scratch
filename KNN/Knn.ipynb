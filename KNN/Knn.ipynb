{
 "cells": [
  {
   "cell_type": "code",
   "execution_count": 163,
   "metadata": {},
   "outputs": [],
   "source": [
    "import numpy as np\n",
    "import matplotlib.pyplot as plt\n",
    "import pandas as pd\n",
    "from sklearn.model_selection import train_test_split\n",
    "from sklearn.metrics import accuracy_score\n",
    "from sklearn.metrics.pairwise import pairwise_distances\n",
    "from time import time"
   ]
  },
  {
   "cell_type": "code",
   "execution_count": 164,
   "metadata": {},
   "outputs": [
    {
     "data": {
      "image/png": "[encoded data removed]",
      "text/plain": [
       "<Figure size 640x480 with 1 Axes>"
      ]
     },
     "metadata": {},
     "output_type": "display_data"
    }
   ],
   "source": [
    "import numpy as np\n",
    "import matplotlib.pyplot as plt\n",
    "\n",
    "# Set a random seed for reproducibility\n",
    "np.random.seed(42)\n",
    "\n",
    "# Class 1\n",
    "class1_points = np.random.normal(loc=[3, 3], scale=[1, 1], size=(10, 2))\n",
    "\n",
    "# Class 2\n",
    "class2_points = np.random.normal(loc=[7, 7], scale=[1, 1], size=(10, 2))\n",
    "\n",
    "# Combine the points from both classes\n",
    "all_points = np.concatenate([class1_points, class2_points])\n",
    "\n",
    "# Create labels for the classes (0 for class 1, 1 for class 2)\n",
    "labels = np.array([0] * 10 + [1] * 10)\n",
    "\n",
    "# Scatter plot to visualize the dataset\n",
    "plt.scatter(all_points[:, 0], all_points[:, 1], c=labels, cmap='viridis')\n",
    "plt.title('2D Dataset for KNN Classification')\n",
    "plt.xlabel('X-axis')\n",
    "plt.ylabel('Y-axis')\n",
    "plt.show()"
   ]
  },
  {
   "cell_type": "code",
   "execution_count": 165,
   "metadata": {},
   "outputs": [],
   "source": [
    "data = np.concatenate((all_points,np.atleast_2d(labels).reshape(-1,1)), axis=1)\n",
    "data = pd.DataFrame(data, columns=[\"X1\", \"X2\", \"label\"])"
   ]
  },
  {
   "cell_type": "code",
   "execution_count": 166,
   "metadata": {},
   "outputs": [
    {
     "data": {
      "text/plain": [
       "((18, 2), (2, 2), (18,), (2,))"
      ]
     },
     "execution_count": 166,
     "metadata": {},
     "output_type": "execute_result"
    }
   ],
   "source": [
    "X_train, X_test, y_train, y_test = train_test_split(all_points, labels, test_size=0.1, random_state=42)\n",
    "X_train.shape, X_test.shape, y_train.shape, y_test.shape"
   ]
  },
  {
   "cell_type": "code",
   "execution_count": 167,
   "metadata": {},
   "outputs": [
    {
     "data": {
      "text/plain": [
       "array([[3.49671415, 2.8617357 ],\n",
       "       [7.82254491, 5.77915635]])"
      ]
     },
     "execution_count": 167,
     "metadata": {},
     "output_type": "execute_result"
    }
   ],
   "source": [
    "X_test"
   ]
  },
  {
   "cell_type": "code",
   "execution_count": 168,
   "metadata": {},
   "outputs": [
    {
     "data": {
      "text/html": [
       "<div>\n",
       "<style scoped>\n",
       "    .dataframe tbody tr th:only-of-type {\n",
       "        vertical-align: middle;\n",
       "    }\n",
       "\n",
       "    .dataframe tbody tr th {\n",
       "        vertical-align: top;\n",
       "    }\n",
       "\n",
       "    .dataframe thead th {\n",
       "        text-align: right;\n",
       "    }\n",
       "</style>\n",
       "<table border=\"1\" class=\"dataframe\">\n",
       "  <thead>\n",
       "    <tr style=\"text-align: right;\">\n",
       "      <th></th>\n",
       "      <th>0</th>\n",
       "      <th>1</th>\n",
       "      <th>2</th>\n",
       "    </tr>\n",
       "  </thead>\n",
       "  <tbody>\n",
       "    <tr>\n",
       "      <th>0</th>\n",
       "      <td>6.398293</td>\n",
       "      <td>8.852278</td>\n",
       "      <td>1.0</td>\n",
       "    </tr>\n",
       "    <tr>\n",
       "      <th>1</th>\n",
       "      <td>3.647689</td>\n",
       "      <td>4.523030</td>\n",
       "      <td>0.0</td>\n",
       "    </tr>\n",
       "    <tr>\n",
       "      <th>2</th>\n",
       "      <td>1.987169</td>\n",
       "      <td>3.314247</td>\n",
       "      <td>0.0</td>\n",
       "    </tr>\n",
       "    <tr>\n",
       "      <th>3</th>\n",
       "      <td>2.536582</td>\n",
       "      <td>2.534270</td>\n",
       "      <td>0.0</td>\n",
       "    </tr>\n",
       "    <tr>\n",
       "      <th>4</th>\n",
       "      <td>7.067528</td>\n",
       "      <td>5.575252</td>\n",
       "      <td>1.0</td>\n",
       "    </tr>\n",
       "    <tr>\n",
       "      <th>5</th>\n",
       "      <td>4.579213</td>\n",
       "      <td>3.767435</td>\n",
       "      <td>0.0</td>\n",
       "    </tr>\n",
       "    <tr>\n",
       "      <th>6</th>\n",
       "      <td>7.208864</td>\n",
       "      <td>5.040330</td>\n",
       "      <td>1.0</td>\n",
       "    </tr>\n",
       "    <tr>\n",
       "      <th>7</th>\n",
       "      <td>6.986503</td>\n",
       "      <td>5.942289</td>\n",
       "      <td>1.0</td>\n",
       "    </tr>\n",
       "    <tr>\n",
       "      <th>8</th>\n",
       "      <td>5.849006</td>\n",
       "      <td>7.375698</td>\n",
       "      <td>1.0</td>\n",
       "    </tr>\n",
       "    <tr>\n",
       "      <th>9</th>\n",
       "      <td>2.765847</td>\n",
       "      <td>2.765863</td>\n",
       "      <td>0.0</td>\n",
       "    </tr>\n",
       "    <tr>\n",
       "      <th>10</th>\n",
       "      <td>2.091976</td>\n",
       "      <td>1.587696</td>\n",
       "      <td>0.0</td>\n",
       "    </tr>\n",
       "    <tr>\n",
       "      <th>11</th>\n",
       "      <td>5.671814</td>\n",
       "      <td>7.196861</td>\n",
       "      <td>1.0</td>\n",
       "    </tr>\n",
       "    <tr>\n",
       "      <th>12</th>\n",
       "      <td>2.530526</td>\n",
       "      <td>3.542560</td>\n",
       "      <td>0.0</td>\n",
       "    </tr>\n",
       "    <tr>\n",
       "      <th>13</th>\n",
       "      <td>6.455617</td>\n",
       "      <td>7.110923</td>\n",
       "      <td>1.0</td>\n",
       "    </tr>\n",
       "    <tr>\n",
       "      <th>14</th>\n",
       "      <td>1.275082</td>\n",
       "      <td>2.437712</td>\n",
       "      <td>0.0</td>\n",
       "    </tr>\n",
       "    <tr>\n",
       "      <th>15</th>\n",
       "      <td>8.465649</td>\n",
       "      <td>6.774224</td>\n",
       "      <td>1.0</td>\n",
       "    </tr>\n",
       "    <tr>\n",
       "      <th>16</th>\n",
       "      <td>6.399361</td>\n",
       "      <td>6.708306</td>\n",
       "      <td>1.0</td>\n",
       "    </tr>\n",
       "    <tr>\n",
       "      <th>17</th>\n",
       "      <td>3.241962</td>\n",
       "      <td>1.086720</td>\n",
       "      <td>0.0</td>\n",
       "    </tr>\n",
       "  </tbody>\n",
       "</table>\n",
       "</div>"
      ],
      "text/plain": [
       "           0         1    2\n",
       "0   6.398293  8.852278  1.0\n",
       "1   3.647689  4.523030  0.0\n",
       "2   1.987169  3.314247  0.0\n",
       "3   2.536582  2.534270  0.0\n",
       "4   7.067528  5.575252  1.0\n",
       "5   4.579213  3.767435  0.0\n",
       "6   7.208864  5.040330  1.0\n",
       "7   6.986503  5.942289  1.0\n",
       "8   5.849006  7.375698  1.0\n",
       "9   2.765847  2.765863  0.0\n",
       "10  2.091976  1.587696  0.0\n",
       "11  5.671814  7.196861  1.0\n",
       "12  2.530526  3.542560  0.0\n",
       "13  6.455617  7.110923  1.0\n",
       "14  1.275082  2.437712  0.0\n",
       "15  8.465649  6.774224  1.0\n",
       "16  6.399361  6.708306  1.0\n",
       "17  3.241962  1.086720  0.0"
      ]
     },
     "execution_count": 168,
     "metadata": {},
     "output_type": "execute_result"
    }
   ],
   "source": [
    "pd.DataFrame(np.concatenate((X_train, np.atleast_2d(y_train).reshape(-1,1)), axis=1))"
   ]
  },
  {
   "cell_type": "code",
   "execution_count": 169,
   "metadata": {},
   "outputs": [
    {
     "name": "stderr",
     "output_type": "stream",
     "text": [
      "C:\\Users\\84866\\AppData\\Local\\Temp\\ipykernel_12168\\2975642372.py:1: UserWarning: No data for colormapping provided via 'c'. Parameters 'cmap' will be ignored\n",
      "  plt.scatter(X_train[:, 0], X_train[:, 1], cmap='viridis', c = 'r', label='train')\n",
      "C:\\Users\\84866\\AppData\\Local\\Temp\\ipykernel_12168\\2975642372.py:2: UserWarning: No data for colormapping provided via 'c'. Parameters 'cmap' will be ignored\n",
      "  plt.scatter(X_test[:, 0], X_test[:, 1], cmap='viridis', c = 'b', label='test')\n"
     ]
    },
    {
     "data": {
      "image/png": "[encoded data removed]",
      "text/plain": [
       "<Figure size 640x480 with 1 Axes>"
      ]
     },
     "metadata": {},
     "output_type": "display_data"
    }
   ],
   "source": [
    "plt.scatter(X_train[:, 0], X_train[:, 1], cmap='viridis', c = 'r', label='train')\n",
    "plt.scatter(X_test[:, 0], X_test[:, 1], cmap='viridis', c = 'b', label='test')\n",
    "plt.legend()\n",
    "plt.title('2D Dataset for KNN Classification')\n",
    "plt.xlabel('X-axis')\n",
    "plt.ylabel('Y-axis')\n",
    "plt.show()"
   ]
  },
  {
   "cell_type": "markdown",
   "metadata": {},
   "source": [
    "$$\n",
    "Euclidean \\ distance: l_1 = ||Z - X||_2^2 = (Z - X)^T(Z - X) = ||Z||_2^2 + ||X||_2^2 - 2X^TZ\n",
    "$$"
   ]
  },
  {
   "cell_type": "code",
   "execution_count": 170,
   "metadata": {},
   "outputs": [
    {
     "data": {
      "text/plain": [
       "array([[3.49671415, 2.8617357 ]])"
      ]
     },
     "execution_count": 170,
     "metadata": {},
     "output_type": "execute_result"
    }
   ],
   "source": [
    "test_point = np.atleast_2d(X_test[0, :]).reshape(-1, 2)\n",
    "test_point"
   ]
  },
  {
   "cell_type": "code",
   "execution_count": 171,
   "metadata": {},
   "outputs": [],
   "source": [
    "def dist_pp(z, X):\n",
    "    return np.sum((z - X)**2)"
   ]
  },
  {
   "cell_type": "code",
   "execution_count": 172,
   "metadata": {},
   "outputs": [],
   "source": [
    "def dist_ps_fast(z, X):\n",
    "    X2 = np.sum(X*X, 1, keepdims=True) # square of l2 norm of each ROW of X\n",
    "    z2 = np.sum(z*z, 1, keepdims=True) # square of l2 norm of z\n",
    "    return X2.T + z2 - 2*np.dot(z, X.T)"
   ]
  },
  {
   "cell_type": "code",
   "execution_count": 173,
   "metadata": {},
   "outputs": [
    {
     "data": {
      "text/plain": [
       "array([[6.65625731, 1.66814014, 1.57591044, 1.01443915, 4.48485035,\n",
       "        1.41141563, 4.30422189, 4.65493649, 5.09010164, 0.73712883,\n",
       "        1.89643505, 4.85019304, 1.18196535, 5.17790468, 2.26173482,\n",
       "        6.32438721, 4.81886558, 1.79320387],\n",
       "       [3.38711828, 4.35973388, 6.33461837, 6.20247422, 0.78206604,\n",
       "        3.81657267, 0.96045266, 0.8518091 , 2.538464  , 5.88643645,\n",
       "        7.09984213, 2.57595241, 5.74524423, 1.9084267 , 7.35081734,\n",
       "        1.18479602, 1.69963852, 6.55749179]])"
      ]
     },
     "execution_count": 173,
     "metadata": {},
     "output_type": "execute_result"
    }
   ],
   "source": [
    "dist_mat = pairwise_distances(X_test, X_train)\n",
    "dist_mat"
   ]
  },
  {
   "cell_type": "code",
   "execution_count": 174,
   "metadata": {},
   "outputs": [],
   "source": [
    "k = 12"
   ]
  },
  {
   "cell_type": "code",
   "execution_count": 175,
   "metadata": {},
   "outputs": [],
   "source": [
    "res = []\n",
    "for i in dist_mat:\n",
    "    idx = np.argsort(i)[:k]\n",
    "    res.append(idx)"
   ]
  },
  {
   "cell_type": "code",
   "execution_count": 176,
   "metadata": {},
   "outputs": [
    {
     "data": {
      "text/plain": [
       "array([[0, 0, 0, 0, 0, 0, 0, 0, 0, 1, 1, 1],\n",
       "       [1, 1, 1, 1, 1, 1, 1, 1, 1, 0, 0, 0]])"
      ]
     },
     "execution_count": 176,
     "metadata": {},
     "output_type": "execute_result"
    }
   ],
   "source": [
    "label_mat = np.zeros((X_test.shape[0], k))\n",
    "for i, val1 in enumerate(res):\n",
    "    for k, val2 in enumerate(val1):\n",
    "        label_mat[i, k] = y_train[val2]\n",
    "label_mat = label_mat.astype(dtype='int')\n",
    "label_mat"
   ]
  },
  {
   "cell_type": "code",
   "execution_count": 177,
   "metadata": {},
   "outputs": [
    {
     "data": {
      "text/plain": [
       "([0, 1], array([0, 1]))"
      ]
     },
     "execution_count": 177,
     "metadata": {},
     "output_type": "execute_result"
    }
   ],
   "source": [
    "res = []\n",
    "for row in label_mat:     \n",
    "    most_frequent_value = np.bincount(row).argmax()\n",
    "    res.append(most_frequent_value)\n",
    "res, y_test"
   ]
  },
  {
   "cell_type": "code",
   "execution_count": 178,
   "metadata": {},
   "outputs": [
    {
     "data": {
      "text/plain": [
       "1.0"
      ]
     },
     "execution_count": 178,
     "metadata": {},
     "output_type": "execute_result"
    }
   ],
   "source": [
    "accuracy_score(y_test, res)"
   ]
  }
 ],
 "metadata": {
  "kernelspec": {
   "display_name": "Python 3",
   "language": "python",
   "name": "python3"
  },
  "language_info": {
   "codemirror_mode": {
    "name": "ipython",
    "version": 3
   },
   "file_extension": ".py",
   "mimetype": "text/x-python",
   "name": "python",
   "nbconvert_exporter": "python",
   "pygments_lexer": "ipython3",
   "version": "3.11.6"
  }
 },
 "nbformat": 4,
 "nbformat_minor": 2
}
